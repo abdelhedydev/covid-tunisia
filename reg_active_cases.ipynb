{
  "nbformat": 4,
  "nbformat_minor": 0,
  "metadata": {
    "colab": {
      "name": "reg active cases.ipynb",
      "provenance": [],
      "collapsed_sections": [],
      "authorship_tag": "ABX9TyM1jcsebZV0nmS40YMUbH1t",
      "include_colab_link": true
    },
    "kernelspec": {
      "name": "python3",
      "display_name": "Python 3"
    }
  },
  "cells": [
    {
      "cell_type": "markdown",
      "metadata": {
        "id": "view-in-github",
        "colab_type": "text"
      },
      "source": [
        "<a href=\"https://colab.research.google.com/github/abdelhedydev/covid-tunisia/blob/master/reg_active_cases.ipynb\" target=\"_parent\"><img src=\"https://colab.research.google.com/assets/colab-badge.svg\" alt=\"Open In Colab\"/></a>"
      ]
    },
    {
      "cell_type": "code",
      "metadata": {
        "id": "UILn7ZZ2aisY",
        "colab_type": "code",
        "colab": {}
      },
      "source": [
        "import pandas as pd"
      ],
      "execution_count": 81,
      "outputs": []
    },
    {
      "cell_type": "code",
      "metadata": {
        "id": "WkTh81opcEv9",
        "colab_type": "code",
        "colab": {}
      },
      "source": [
        "data_confirmed_url = \"https://raw.githubusercontent.com/CSSEGISandData/COVID-19/master/csse_covid_19_data/csse_covid_19_time_series/time_series_covid19_confirmed_global.csv\"\n",
        "data_recovered_url = \"https://raw.githubusercontent.com/CSSEGISandData/COVID-19/master/csse_covid_19_data/csse_covid_19_time_series/time_series_covid19_recovered_global.csv\"\n",
        "data_death_url = \"https://raw.githubusercontent.com/CSSEGISandData/COVID-19/master/csse_covid_19_data/csse_covid_19_time_series/time_series_covid19_deaths_global.csv\""
      ],
      "execution_count": 82,
      "outputs": []
    },
    {
      "cell_type": "code",
      "metadata": {
        "id": "pgOA0cT8cfJh",
        "colab_type": "code",
        "colab": {}
      },
      "source": [
        "deaths_df = pd.read_csv(data_death_url)\n",
        "confirmed_df = pd.read_csv(data_confirmed_url)\n",
        "recovered_df = pd.read_csv(data_recovered_url)\n"
      ],
      "execution_count": 83,
      "outputs": []
    },
    {
      "cell_type": "code",
      "metadata": {
        "id": "rDdz8H42cJtK",
        "colab_type": "code",
        "colab": {}
      },
      "source": [
        "deaths_tunisia = deaths_df.loc[deaths_df['Country/Region']=='Tunisia',deaths_df.columns[4:]]\n",
        "recovered_tunisia = recovered_df.loc[recovered_df['Country/Region']=='Tunisia',recovered_df.columns[4:]]\n",
        "confirmed_tunisia = confirmed_df.loc[confirmed_df['Country/Region']=='Tunisia',confirmed_df.columns[4:]]"
      ],
      "execution_count": 84,
      "outputs": []
    },
    {
      "cell_type": "code",
      "metadata": {
        "id": "_dw5ICtKc6BT",
        "colab_type": "code",
        "colab": {
          "base_uri": "https://localhost:8080/",
          "height": 129
        },
        "outputId": "419d91ca-c6f5-4e31-b44d-cab5a3569786"
      },
      "source": [
        "death_recovred_tunisia = deaths_tunisia + recovered_tunisia\n",
        "active_tunisia = confirmed_tunisia - death_recovred_tunisia\n",
        "active_tunisia"
      ],
      "execution_count": 85,
      "outputs": [
        {
          "output_type": "execute_result",
          "data": {
            "text/html": [
              "<div>\n",
              "<style scoped>\n",
              "    .dataframe tbody tr th:only-of-type {\n",
              "        vertical-align: middle;\n",
              "    }\n",
              "\n",
              "    .dataframe tbody tr th {\n",
              "        vertical-align: top;\n",
              "    }\n",
              "\n",
              "    .dataframe thead th {\n",
              "        text-align: right;\n",
              "    }\n",
              "</style>\n",
              "<table border=\"1\" class=\"dataframe\">\n",
              "  <thead>\n",
              "    <tr style=\"text-align: right;\">\n",
              "      <th></th>\n",
              "      <th>1/22/20</th>\n",
              "      <th>1/23/20</th>\n",
              "      <th>1/24/20</th>\n",
              "      <th>1/25/20</th>\n",
              "      <th>1/26/20</th>\n",
              "      <th>1/27/20</th>\n",
              "      <th>1/28/20</th>\n",
              "      <th>1/29/20</th>\n",
              "      <th>1/30/20</th>\n",
              "      <th>1/31/20</th>\n",
              "      <th>2/1/20</th>\n",
              "      <th>2/2/20</th>\n",
              "      <th>2/3/20</th>\n",
              "      <th>2/4/20</th>\n",
              "      <th>2/5/20</th>\n",
              "      <th>2/6/20</th>\n",
              "      <th>2/7/20</th>\n",
              "      <th>2/8/20</th>\n",
              "      <th>2/9/20</th>\n",
              "      <th>2/10/20</th>\n",
              "      <th>2/11/20</th>\n",
              "      <th>2/12/20</th>\n",
              "      <th>2/13/20</th>\n",
              "      <th>2/14/20</th>\n",
              "      <th>2/15/20</th>\n",
              "      <th>2/16/20</th>\n",
              "      <th>2/17/20</th>\n",
              "      <th>2/18/20</th>\n",
              "      <th>2/19/20</th>\n",
              "      <th>2/20/20</th>\n",
              "      <th>2/21/20</th>\n",
              "      <th>2/22/20</th>\n",
              "      <th>2/23/20</th>\n",
              "      <th>2/24/20</th>\n",
              "      <th>2/25/20</th>\n",
              "      <th>2/26/20</th>\n",
              "      <th>2/27/20</th>\n",
              "      <th>2/28/20</th>\n",
              "      <th>2/29/20</th>\n",
              "      <th>3/1/20</th>\n",
              "      <th>...</th>\n",
              "      <th>5/15/20</th>\n",
              "      <th>5/16/20</th>\n",
              "      <th>5/17/20</th>\n",
              "      <th>5/18/20</th>\n",
              "      <th>5/19/20</th>\n",
              "      <th>5/20/20</th>\n",
              "      <th>5/21/20</th>\n",
              "      <th>5/22/20</th>\n",
              "      <th>5/23/20</th>\n",
              "      <th>5/24/20</th>\n",
              "      <th>5/25/20</th>\n",
              "      <th>5/26/20</th>\n",
              "      <th>5/27/20</th>\n",
              "      <th>5/28/20</th>\n",
              "      <th>5/29/20</th>\n",
              "      <th>5/30/20</th>\n",
              "      <th>5/31/20</th>\n",
              "      <th>6/1/20</th>\n",
              "      <th>6/2/20</th>\n",
              "      <th>6/3/20</th>\n",
              "      <th>6/4/20</th>\n",
              "      <th>6/5/20</th>\n",
              "      <th>6/6/20</th>\n",
              "      <th>6/7/20</th>\n",
              "      <th>6/8/20</th>\n",
              "      <th>6/9/20</th>\n",
              "      <th>6/10/20</th>\n",
              "      <th>6/11/20</th>\n",
              "      <th>6/12/20</th>\n",
              "      <th>6/13/20</th>\n",
              "      <th>6/14/20</th>\n",
              "      <th>6/15/20</th>\n",
              "      <th>6/16/20</th>\n",
              "      <th>6/17/20</th>\n",
              "      <th>6/18/20</th>\n",
              "      <th>6/19/20</th>\n",
              "      <th>6/20/20</th>\n",
              "      <th>6/21/20</th>\n",
              "      <th>6/22/20</th>\n",
              "      <th>6/23/20</th>\n",
              "    </tr>\n",
              "  </thead>\n",
              "  <tbody>\n",
              "    <tr>\n",
              "      <th>212</th>\n",
              "      <td>0</td>\n",
              "      <td>0</td>\n",
              "      <td>0</td>\n",
              "      <td>0</td>\n",
              "      <td>0</td>\n",
              "      <td>0</td>\n",
              "      <td>0</td>\n",
              "      <td>0</td>\n",
              "      <td>0</td>\n",
              "      <td>0</td>\n",
              "      <td>0</td>\n",
              "      <td>0</td>\n",
              "      <td>0</td>\n",
              "      <td>0</td>\n",
              "      <td>0</td>\n",
              "      <td>0</td>\n",
              "      <td>0</td>\n",
              "      <td>0</td>\n",
              "      <td>0</td>\n",
              "      <td>0</td>\n",
              "      <td>0</td>\n",
              "      <td>0</td>\n",
              "      <td>0</td>\n",
              "      <td>0</td>\n",
              "      <td>0</td>\n",
              "      <td>0</td>\n",
              "      <td>0</td>\n",
              "      <td>0</td>\n",
              "      <td>0</td>\n",
              "      <td>0</td>\n",
              "      <td>0</td>\n",
              "      <td>0</td>\n",
              "      <td>0</td>\n",
              "      <td>0</td>\n",
              "      <td>0</td>\n",
              "      <td>0</td>\n",
              "      <td>0</td>\n",
              "      <td>0</td>\n",
              "      <td>0</td>\n",
              "      <td>0</td>\n",
              "      <td>...</td>\n",
              "      <td>188</td>\n",
              "      <td>185</td>\n",
              "      <td>176</td>\n",
              "      <td>178</td>\n",
              "      <td>171</td>\n",
              "      <td>136</td>\n",
              "      <td>116</td>\n",
              "      <td>98</td>\n",
              "      <td>86</td>\n",
              "      <td>86</td>\n",
              "      <td>84</td>\n",
              "      <td>74</td>\n",
              "      <td>74</td>\n",
              "      <td>82</td>\n",
              "      <td>77</td>\n",
              "      <td>78</td>\n",
              "      <td>69</td>\n",
              "      <td>72</td>\n",
              "      <td>73</td>\n",
              "      <td>73</td>\n",
              "      <td>70</td>\n",
              "      <td>69</td>\n",
              "      <td>61</td>\n",
              "      <td>56</td>\n",
              "      <td>56</td>\n",
              "      <td>56</td>\n",
              "      <td>55</td>\n",
              "      <td>49</td>\n",
              "      <td>49</td>\n",
              "      <td>50</td>\n",
              "      <td>49</td>\n",
              "      <td>62</td>\n",
              "      <td>74</td>\n",
              "      <td>74</td>\n",
              "      <td>76</td>\n",
              "      <td>82</td>\n",
              "      <td>89</td>\n",
              "      <td>87</td>\n",
              "      <td>89</td>\n",
              "      <td>86</td>\n",
              "    </tr>\n",
              "  </tbody>\n",
              "</table>\n",
              "<p>1 rows × 154 columns</p>\n",
              "</div>"
            ],
            "text/plain": [
              "     1/22/20  1/23/20  1/24/20  1/25/20  ...  6/20/20  6/21/20  6/22/20  6/23/20\n",
              "212        0        0        0        0  ...       89       87       89       86\n",
              "\n",
              "[1 rows x 154 columns]"
            ]
          },
          "metadata": {
            "tags": []
          },
          "execution_count": 85
        }
      ]
    },
    {
      "cell_type": "code",
      "metadata": {
        "id": "fDYFAIo-diNp",
        "colab_type": "code",
        "colab": {
          "base_uri": "https://localhost:8080/",
          "height": 34
        },
        "outputId": "7bb1ce9f-6a84-4755-d19e-6af4486661f8"
      },
      "source": [
        "dates = active_tunisia.columns\n",
        "dates.shape"
      ],
      "execution_count": 86,
      "outputs": [
        {
          "output_type": "execute_result",
          "data": {
            "text/plain": [
              "(154,)"
            ]
          },
          "metadata": {
            "tags": []
          },
          "execution_count": 86
        }
      ]
    },
    {
      "cell_type": "code",
      "metadata": {
        "id": "P8Gf5YF7e7qp",
        "colab_type": "code",
        "colab": {}
      },
      "source": [
        "import numpy as np"
      ],
      "execution_count": 87,
      "outputs": []
    },
    {
      "cell_type": "code",
      "metadata": {
        "id": "-uO4SUNhdvX3",
        "colab_type": "code",
        "colab": {}
      },
      "source": [
        "numeros_dates = np.arange(0,len(dates),1)\n",
        "active_nb = active_tunisia.to_numpy().reshape(-1)"
      ],
      "execution_count": 88,
      "outputs": []
    },
    {
      "cell_type": "code",
      "metadata": {
        "id": "qYZ8mD0HfGhf",
        "colab_type": "code",
        "colab": {}
      },
      "source": [
        "df_tunisia = pd.DataFrame({'num_date':numeros_dates,\n",
        "                           'nombre':active_nb},\n",
        "                           index= dates)"
      ],
      "execution_count": 89,
      "outputs": []
    },
    {
      "cell_type": "code",
      "metadata": {
        "id": "9MPHIx7hfuuU",
        "colab_type": "code",
        "colab": {
          "base_uri": "https://localhost:8080/",
          "height": 221
        },
        "outputId": "38d1fb43-29c6-4d20-f4a9-c094faebc437"
      },
      "source": [
        "X = df_tunisia['num_date']\n",
        "X"
      ],
      "execution_count": 90,
      "outputs": [
        {
          "output_type": "execute_result",
          "data": {
            "text/plain": [
              "1/22/20      0\n",
              "1/23/20      1\n",
              "1/24/20      2\n",
              "1/25/20      3\n",
              "1/26/20      4\n",
              "          ... \n",
              "6/19/20    149\n",
              "6/20/20    150\n",
              "6/21/20    151\n",
              "6/22/20    152\n",
              "6/23/20    153\n",
              "Name: num_date, Length: 154, dtype: int64"
            ]
          },
          "metadata": {
            "tags": []
          },
          "execution_count": 90
        }
      ]
    },
    {
      "cell_type": "code",
      "metadata": {
        "id": "7VoAAGWRnxGT",
        "colab_type": "code",
        "colab": {
          "base_uri": "https://localhost:8080/",
          "height": 221
        },
        "outputId": "4552d215-2cfa-42b1-baa9-4be994477d1d"
      },
      "source": [
        "y = df_tunisia.nombre\n",
        "y"
      ],
      "execution_count": 91,
      "outputs": [
        {
          "output_type": "execute_result",
          "data": {
            "text/plain": [
              "1/22/20     0\n",
              "1/23/20     0\n",
              "1/24/20     0\n",
              "1/25/20     0\n",
              "1/26/20     0\n",
              "           ..\n",
              "6/19/20    82\n",
              "6/20/20    89\n",
              "6/21/20    87\n",
              "6/22/20    89\n",
              "6/23/20    86\n",
              "Name: nombre, Length: 154, dtype: int64"
            ]
          },
          "metadata": {
            "tags": []
          },
          "execution_count": 91
        }
      ]
    },
    {
      "cell_type": "code",
      "metadata": {
        "id": "wqpP1cskoObi",
        "colab_type": "code",
        "colab": {
          "base_uri": "https://localhost:8080/",
          "height": 296
        },
        "outputId": "bd6f8406-cf63-403d-9c03-77daaf8cd369"
      },
      "source": [
        "import matplotlib.pyplot as plt\n",
        "plt.plot(X,y,'go')\n",
        "plt.xlabel('temps')\n",
        "plt.ylabel('Cas actives')"
      ],
      "execution_count": 92,
      "outputs": [
        {
          "output_type": "execute_result",
          "data": {
            "text/plain": [
              "Text(0, 0.5, 'Cas actives')"
            ]
          },
          "metadata": {
            "tags": []
          },
          "execution_count": 92
        },
        {
          "output_type": "display_data",
          "data": {
            "image/png": "[encoded data removed]",
            "text/plain": [
              "<Figure size 432x288 with 1 Axes>"
            ]
          },
          "metadata": {
            "tags": [],
            "needs_background": "light"
          }
        }
      ]
    },
    {
      "cell_type": "code",
      "metadata": {
        "id": "VQJc80HGpNes",
        "colab_type": "code",
        "colab": {}
      },
      "source": [
        "bins = [0,70,550,800]\n",
        "y_binned = np.digitize(y,bins)"
      ],
      "execution_count": 93,
      "outputs": []
    },
    {
      "cell_type": "code",
      "metadata": {
        "id": "0o95cTaKovFe",
        "colab_type": "code",
        "colab": {}
      },
      "source": [
        "from sklearn.model_selection import train_test_split\n",
        "X_train,X_test,y_train,y_test = train_test_split(X,y,\n",
        "                                                 random_state=42,\n",
        "                                                 test_size=0.3,\n",
        "                                                 stratify=y_binned)"
      ],
      "execution_count": 94,
      "outputs": []
    },
    {
      "cell_type": "code",
      "metadata": {
        "id": "v1QX5bOjrrQI",
        "colab_type": "code",
        "colab": {}
      },
      "source": [
        "from scipy.stats import norm\n",
        "def func_model(x,a,b,c):\n",
        "  mu = b\n",
        "  sig = a\n",
        "  return c/(np.sqrt(2.*np.pi)*sig)*np.exp(-np.power((x - mu)/sig, 2.)/2)"
      ],
      "execution_count": 95,
      "outputs": []
    },
    {
      "cell_type": "code",
      "metadata": {
        "id": "iqvX_Pq8wf-B",
        "colab_type": "code",
        "colab": {
          "base_uri": "https://localhost:8080/",
          "height": 102
        },
        "outputId": "136ce984-1fed-4e32-eb9f-99b810c8eab4"
      },
      "source": [
        "from scipy.optimize import curve_fit\n",
        "params = curve_fit(func_model,X_train,y_train,p0=[90,44,700])\n",
        "\n",
        "print('params',params)\n",
        "a= params[0][0]\n",
        "print(a)\n",
        "b = params[0][1]\n",
        "print(b)\n",
        "c = params[0][2]"
      ],
      "execution_count": 96,
      "outputs": [
        {
          "output_type": "stream",
          "text": [
            "params (array([1.56887703e+01, 8.90899238e+01, 2.96081074e+04]), array([[6.95013544e-02, 5.51210440e-03, 6.82117349e+01],\n",
            "       [5.51210440e-03, 7.69570251e-02, 1.07465586e+00],\n",
            "       [6.82117349e+01, 1.07465586e+00, 1.97098179e+05]]))\n",
            "15.688770287581358\n",
            "89.08992378112268\n"
          ],
          "name": "stdout"
        }
      ]
    },
    {
      "cell_type": "code",
      "metadata": {
        "id": "lTkG2VWBzjHg",
        "colab_type": "code",
        "colab": {}
      },
      "source": [
        "y_test_lin_pres = func_model(X_test,a,b,c)\n",
        "from sklearn.metrics import mean_squared_error, r2_score"
      ],
      "execution_count": 97,
      "outputs": []
    },
    {
      "cell_type": "code",
      "metadata": {
        "id": "f_xAVeIez2f3",
        "colab_type": "code",
        "colab": {
          "base_uri": "https://localhost:8080/",
          "height": 34
        },
        "outputId": "c1ecf3ad-385c-4b9d-a13b-074934560684"
      },
      "source": [
        "mean_squared_error(y_test,y_test_lin_pres)"
      ],
      "execution_count": 98,
      "outputs": [
        {
          "output_type": "execute_result",
          "data": {
            "text/plain": [
              "1504.7939500543769"
            ]
          },
          "metadata": {
            "tags": []
          },
          "execution_count": 98
        }
      ]
    },
    {
      "cell_type": "code",
      "metadata": {
        "id": "RCvHuaqwz_q-",
        "colab_type": "code",
        "colab": {
          "base_uri": "https://localhost:8080/",
          "height": 34
        },
        "outputId": "d161a22c-288a-4336-fc65-24e25edb046a"
      },
      "source": [
        "r2_score(y_test,y_test_lin_pres)"
      ],
      "execution_count": 99,
      "outputs": [
        {
          "output_type": "execute_result",
          "data": {
            "text/plain": [
              "0.9762254880021555"
            ]
          },
          "metadata": {
            "tags": []
          },
          "execution_count": 99
        }
      ]
    },
    {
      "cell_type": "code",
      "metadata": {
        "id": "N0PF938X0I5D",
        "colab_type": "code",
        "colab": {
          "base_uri": "https://localhost:8080/",
          "height": 313
        },
        "outputId": "3d7ed5f1-ce57-48c1-ae76-2627780bc08f"
      },
      "source": [
        "y_lin_pred = func_model(X,a,b,c)\n",
        "plt.plot(X_train,y_train,'go',label='train data')\n",
        "plt.plot(X,y_lin_pred,'r-',label='modéle logistique')\n",
        "plt.xlabel('temps')\n",
        "plt.ylabel('Cas active')\n",
        "plt.legend()\n",
        "print(np.mean(X))\n",
        "print(np.std(X))"
      ],
      "execution_count": 100,
      "outputs": [
        {
          "output_type": "stream",
          "text": [
            "76.5\n",
            "44.45503346079047\n"
          ],
          "name": "stdout"
        },
        {
          "output_type": "display_data",
          "data": {
            "image/png": "[encoded data removed]",
            "text/plain": [
              "<Figure size 432x288 with 1 Axes>"
            ]
          },
          "metadata": {
            "tags": [],
            "needs_background": "light"
          }
        }
      ]
    },
    {
      "cell_type": "code",
      "metadata": {
        "id": "5le4cNwTuEFe",
        "colab_type": "code",
        "colab": {}
      },
      "source": [
        ""
      ],
      "execution_count": 100,
      "outputs": []
    }
  ]
}